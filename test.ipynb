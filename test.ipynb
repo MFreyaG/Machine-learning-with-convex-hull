{
 "cells": [
  {
   "cell_type": "code",
   "execution_count": 3,
   "metadata": {},
   "outputs": [],
   "source": [
    "import bintrees\n",
    "\n",
    "from entities.segment import Segment\n",
    "from entities.point import Point\n",
    "\n",
    "s1 = Segment(Point(0,0),Point(1,1))\n",
    "s2 = Segment(Point(0.5,0), Point(1,1.5))"
   ]
  },
  {
   "cell_type": "markdown",
   "metadata": {},
   "source": [
    "Problem with insertion/comparison!"
   ]
  },
  {
   "cell_type": "code",
   "execution_count": 19,
   "metadata": {},
   "outputs": [
    {
     "ename": "TypeError",
     "evalue": "Segment.__eq__() takes 1 positional argument but 2 were given",
     "output_type": "error",
     "traceback": [
      "\u001b[0;31m---------------------------------------------------------------------------\u001b[0m",
      "\u001b[0;31mTypeError\u001b[0m                                 Traceback (most recent call last)",
      "\u001b[1;32m/home/cesarpmorais/5o_Periodo/Alg2/repo/TP1-ALG2/test.ipynb Cell 2\u001b[0m line \u001b[0;36m4\n\u001b[1;32m      <a href='vscode-notebook-cell://wsl%2Bubuntu/home/cesarpmorais/5o_Periodo/Alg2/repo/TP1-ALG2/test.ipynb#W1sdnNjb2RlLXJlbW90ZQ%3D%3D?line=0'>1</a>\u001b[0m tree \u001b[39m=\u001b[39m bintrees\u001b[39m.\u001b[39mRBTree()\n\u001b[1;32m      <a href='vscode-notebook-cell://wsl%2Bubuntu/home/cesarpmorais/5o_Periodo/Alg2/repo/TP1-ALG2/test.ipynb#W1sdnNjb2RlLXJlbW90ZQ%3D%3D?line=2'>3</a>\u001b[0m tree\u001b[39m.\u001b[39minsert(s1, s1)\n\u001b[0;32m----> <a href='vscode-notebook-cell://wsl%2Bubuntu/home/cesarpmorais/5o_Periodo/Alg2/repo/TP1-ALG2/test.ipynb#W1sdnNjb2RlLXJlbW90ZQ%3D%3D?line=3'>4</a>\u001b[0m tree\u001b[39m.\u001b[39;49minsert(s2, s2)\n",
      "File \u001b[0;32m~/.pyenv/versions/3.11.1/lib/python3.11/site-packages/bintrees/rbtree.py:159\u001b[0m, in \u001b[0;36mRBTree.insert\u001b[0;34m(self, key, value)\u001b[0m\n\u001b[1;32m    156\u001b[0m         grand_grand_parent[direction2] \u001b[39m=\u001b[39m jsw_double(grand_parent, \u001b[39m1\u001b[39m \u001b[39m-\u001b[39m last)\n\u001b[1;32m    158\u001b[0m \u001b[39m# Stop if found\u001b[39;00m\n\u001b[0;32m--> 159\u001b[0m \u001b[39mif\u001b[39;00m key \u001b[39m==\u001b[39;49m node\u001b[39m.\u001b[39;49mkey:\n\u001b[1;32m    160\u001b[0m     node\u001b[39m.\u001b[39mvalue \u001b[39m=\u001b[39m value  \u001b[39m# set new value for key\u001b[39;00m\n\u001b[1;32m    161\u001b[0m     \u001b[39mbreak\u001b[39;00m\n",
      "\u001b[0;31mTypeError\u001b[0m: Segment.__eq__() takes 1 positional argument but 2 were given"
     ]
    }
   ],
   "source": [
    "tree = bintrees.RBTree()\n",
    "\n",
    "tree.insert(s1, s1)\n",
    "tree.insert(s2, s2)"
   ]
  }
 ],
 "metadata": {
  "kernelspec": {
   "display_name": "Python 3",
   "language": "python",
   "name": "python3"
  },
  "language_info": {
   "codemirror_mode": {
    "name": "ipython",
    "version": 3
   },
   "file_extension": ".py",
   "mimetype": "text/x-python",
   "name": "python",
   "nbconvert_exporter": "python",
   "pygments_lexer": "ipython3",
   "version": "3.11.1"
  },
  "orig_nbformat": 4
 },
 "nbformat": 4,
 "nbformat_minor": 2
}
